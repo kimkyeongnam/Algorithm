{
  "nbformat": 4,
  "nbformat_minor": 0,
  "metadata": {
    "colab": {
      "name": "The Journey Begins(1~3).ipynb",
      "provenance": [],
      "authorship_tag": "ABX9TyNTvIH8yxPpUOoox2zLV1q7",
      "include_colab_link": true
    },
    "kernelspec": {
      "name": "python3",
      "display_name": "Python 3"
    }
  },
  "cells": [
    {
      "cell_type": "markdown",
      "metadata": {
        "id": "view-in-github",
        "colab_type": "text"
      },
      "source": [
        "<a href=\"https://colab.research.google.com/github/kimkyeongnam/Algorithm/blob/master/Code%20Signal/The_Journey_Begins(1~3).ipynb\" target=\"_parent\"><img src=\"https://colab.research.google.com/assets/colab-badge.svg\" alt=\"Open In Colab\"/></a>"
      ]
    },
    {
      "cell_type": "markdown",
      "metadata": {
        "id": "QoKHfx69eU42",
        "colab_type": "text"
      },
      "source": [
        "# 1. [Easy] Add \n",
        "Write a function that returns the sum of two numbers.\n",
        "<br><br>\n",
        "### Example)\n",
        "\n",
        "\n",
        "For `param1 = 1` and `param2 = 2`, \n",
        "the output should be `add(param1, param2) = 3`.\n",
        "\n",
        "\n",
        "---\n",
        "\n",
        "\n",
        "[execution time limit] 4 seconds (py3)\n",
        "\n",
        "[input] integer param1\n",
        "\n",
        "Guaranteed constraints:\n",
        "`-1000 ≤ param1 ≤ 1000`.\n",
        "\n",
        "<br>\n",
        "[input] integer param2\n",
        "\n",
        "Guaranteed constraints:\n",
        "`-1000 ≤ param2 ≤ 1000`.\n",
        "<br>\n",
        "[output] integer\n",
        "\n",
        "The sum of the two inputs.\n"
      ]
    },
    {
      "cell_type": "code",
      "metadata": {
        "id": "ANXHBAcjWQ4s",
        "colab_type": "code",
        "colab": {}
      },
      "source": [
        "# My solution   &   Other people's solution\n",
        "def add(param1, param2):\n",
        "    return param1+param2"
      ],
      "execution_count": 0,
      "outputs": []
    },
    {
      "cell_type": "markdown",
      "metadata": {
        "id": "_O3h2X5PO1BX",
        "colab_type": "text"
      },
      "source": [
        "# 2. [Easy] centuryFromYear\n",
        "Write a function that returns the sum of two numbers.\n",
        "<br><br>\n",
        "\n",
        "### Example)\n",
        "\n",
        "\n",
        "For `year = 1905`,\n",
        "the output should be `centuryFromYear(year) = 20`;\n",
        "\n",
        "For `year = 1700`,\n",
        "the output should be `centuryFromYear(year) = 17`.\n",
        "\n",
        "---\n",
        "\n",
        "[execution time limit] 4 seconds (py3)\n",
        "\n",
        "[input] integer year\n",
        "\n",
        "A positive integer, designating the year.\n",
        "\n",
        "Guaranteed constraints:\n",
        "`1 ≤ year ≤ 2005`.\n",
        "\n",
        "[output] integer\n",
        "\n",
        "The number of the century the year is in."
      ]
    },
    {
      "cell_type": "code",
      "metadata": {
        "id": "eyWO1A8WWP_4",
        "colab_type": "code",
        "colab": {}
      },
      "source": [
        "# My solution\n",
        "def centuryFromYear(year):\n",
        "    result = 0\n",
        "    if year % 100 != 0:\n",
        "        result += 1\n",
        "    result += year // 100\n",
        "    return result"
      ],
      "execution_count": 0,
      "outputs": []
    },
    {
      "cell_type": "code",
      "metadata": {
        "id": "_-pPcZP4blR4",
        "colab_type": "code",
        "colab": {}
      },
      "source": [
        "# Other people's solution\n",
        "def centuryFromYear(year):\n",
        "    import math\n",
        "    century = math.ceil(year/100)\n",
        "    return century"
      ],
      "execution_count": 0,
      "outputs": []
    },
    {
      "cell_type": "markdown",
      "metadata": {
        "id": "NGfdLazPC8Et",
        "colab_type": "text"
      },
      "source": [
        "# 3. [Easy] checkPalindrome\n",
        "Given the string, check if it is a __palindrome__.  \n",
        "(**palindrome**: A palindrome is a string that reads the same left-to-right and right-to-left.)\n",
        "\n",
        "\n",
        "<br>\n",
        "\n",
        "### Example)\n",
        "\n",
        "\n",
        "For `inputString = \"aabaa\"`, \n",
        "the output should be `checkPalindrome(inputString) = true`;\n",
        "\n",
        "For `inputString = \"abac\"`, \n",
        "the output should be `checkPalindrome(inputString) = false`;\n",
        "\n",
        "For `inputString = \"a\"`, \n",
        "the output should be `checkPalindrome(inputString) = true`.\n",
        "\n",
        "---\n",
        "\n",
        "[execution time limit] 4 seconds (py3)\n",
        "\n",
        "[input] string inputString\n",
        "\n",
        "A non-empty string consisting of lowercase characters.\n",
        "\n",
        "Guaranteed constraints:\n",
        "`1 ≤ inputString.length ≤ 100000`.\n",
        "\n",
        "[output] boolean\n",
        "\n",
        "`true` if `inputString` is a palindrome, `false` otherwise.\n"
      ]
    },
    {
      "cell_type": "code",
      "metadata": {
        "id": "QntZdHOEWn7o",
        "colab_type": "code",
        "colab": {}
      },
      "source": [
        "# My solution\n",
        "def checkPalindrome(inputString):\n",
        "    result = True\n",
        "    for i in range(len(inputString) // 2):\n",
        "        if(inputString[i] != inputString[len(inputString) - 1 - i]):\n",
        "            result = False\n",
        "            break\n",
        "    return result"
      ],
      "execution_count": 0,
      "outputs": []
    },
    {
      "cell_type": "code",
      "metadata": {
        "id": "KanPUsZDaT0M",
        "colab_type": "code",
        "colab": {}
      },
      "source": [
        "# Other people's solution\n",
        "def checkPalindrome(inputString):\n",
        "    if inputString[::-1] == inputString:\n",
        "        return True\n",
        "    else:\n",
        "        return False"
      ],
      "execution_count": 0,
      "outputs": []
    }
  ]
}